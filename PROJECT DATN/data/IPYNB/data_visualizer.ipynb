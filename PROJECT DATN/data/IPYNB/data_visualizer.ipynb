{
 "cells": [
  {
   "cell_type": "code",
   "execution_count": 1,
   "id": "332af7fa",
   "metadata": {},
   "outputs": [],
   "source": [
    "import pandas as pd\n",
    "import matplotlib.pyplot as plt\n",
    "import seaborn as sns\n",
    "\n",
    "class Visualizer:\n",
    "    '''\n",
    "        Lớp trực quan hóa dữ liệu\n",
    "    '''\n",
    "    def __init__(self, df: pd.DataFrame):\n",
    "        self.df = df\n",
    "\n",
    "    def plot_histogram(self, column: str):\n",
    "        '''\n",
    "        Vẽ biểu đồ histogram cho một cột số\n",
    "        '''\n",
    "        if column in self.df.columns:\n",
    "            plt.figure(figsize=(8, 5))\n",
    "            sns.histplot(self.df[column], kde=True, bins=30, color='skyblue')\n",
    "            plt.title(f'Biểu đồ phân phối: {column}')\n",
    "            plt.xlabel(column)\n",
    "            plt.ylabel('Tần suất')\n",
    "            plt.grid(True)\n",
    "            plt.tight_layout()\n",
    "            plt.show()\n",
    "        else:\n",
    "            print(f\"Cột '{column}' không tồn tại trong dữ liệu.\")\n",
    "\n",
    "    def plot_time_series(self, x: str, y: str):\n",
    "        '''\n",
    "        Vẽ biểu đồ dạng chuỗi thời gian (line plot)\n",
    "        '''\n",
    "        if x in self.df.columns and y in self.df.columns:\n",
    "            plt.figure(figsize=(10, 5))\n",
    "            sns.lineplot(data=self.df, x=x, y=y, marker='o')\n",
    "            plt.title(f'Trend: {y} theo {x}')\n",
    "            plt.xlabel(x)\n",
    "            plt.ylabel(y)\n",
    "            plt.grid(True)\n",
    "            plt.tight_layout()\n",
    "            plt.show()\n",
    "        else:\n",
    "            print(f\"Thiếu cột '{x}' hoặc '{y}'.\")\n",
    "\n",
    "    def plot_correlation_matrix(self):\n",
    "        '''\n",
    "        Vẽ ma trận tương quan giữa các biến số\n",
    "        '''\n",
    "        plt.figure(figsize=(10, 8))\n",
    "        corr = self.df.corr(numeric_only=True)\n",
    "        sns.heatmap(corr, annot=True, cmap='coolwarm', fmt=\".2f\", square=True)\n",
    "        plt.title('Ma trận tương quan')\n",
    "        plt.tight_layout()\n",
    "        plt.show()\n"
   ]
  }
 ],
 "metadata": {
  "kernelspec": {
   "display_name": "Python 3",
   "language": "python",
   "name": "python3"
  },
  "language_info": {
   "codemirror_mode": {
    "name": "ipython",
    "version": 3
   },
   "file_extension": ".py",
   "mimetype": "text/x-python",
   "name": "python",
   "nbconvert_exporter": "python",
   "pygments_lexer": "ipython3",
   "version": "3.12.8"
  }
 },
 "nbformat": 4,
 "nbformat_minor": 5
}
